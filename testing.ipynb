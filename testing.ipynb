{
 "cells": [
  {
   "cell_type": "code",
   "execution_count": 3,
   "metadata": {},
   "outputs": [],
   "source": [
    "import requests\n",
    "import json\n",
    "\n",
    "response = requests.get('https://a1zrpiqu6b.execute-api.eu-west-2.amazonaws.com/alpha/providers')\n"
   ]
  },
  {
   "cell_type": "code",
   "execution_count": 8,
   "metadata": {},
   "outputs": [
    {
     "name": "stdout",
     "output_type": "stream",
     "text": [
      "provider_type\n",
      "organisation_name\n",
      "summary\n",
      "services\n",
      "form_emails\n",
      "opening_times\n",
      "address\n",
      "scrape_urls\n",
      "name\n",
      "phones\n",
      "emails\n",
      "notes\n",
      "appointment_urls\n",
      "homepage_urls\n",
      "id\n"
     ]
    }
   ],
   "source": [
    "data = json.loads(response.content)\n",
    "data = {provider[\"id\"]: provider for provider in data}\n",
    "provider = data[\"5cfd54d9435d4e46a5404248da608814\"]\n",
    "\n",
    "for feature, feature_dict in provider.items():\n",
    "    st.h(feature)"
   ]
  },
  {
   "cell_type": "code",
   "execution_count": null,
   "metadata": {},
   "outputs": [],
   "source": []
  }
 ],
 "metadata": {
  "kernelspec": {
   "display_name": "base",
   "language": "python",
   "name": "python3"
  },
  "language_info": {
   "codemirror_mode": {
    "name": "ipython",
    "version": 3
   },
   "file_extension": ".py",
   "mimetype": "text/x-python",
   "name": "python",
   "nbconvert_exporter": "python",
   "pygments_lexer": "ipython3",
   "version": "3.9.16"
  },
  "orig_nbformat": 4
 },
 "nbformat": 4,
 "nbformat_minor": 2
}
